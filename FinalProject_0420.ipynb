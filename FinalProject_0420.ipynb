{
 "cells": [
  {
   "cell_type": "markdown",
   "id": "8cc4f417-debb-47dc-a08d-76efcde31765",
   "metadata": {},
   "source": [
    "# Miracle of Microfinance\n"
   ]
  },
  {
   "cell_type": "markdown",
   "id": "3df890de-3dfc-4d9d-bdcc-5afc0b03c25c",
   "metadata": {},
   "source": [
    "##### Fardin Kabir, Kanav Patel, Lorraine Luo and Luigi Vicencio"
   ]
  },
  {
   "cell_type": "markdown",
   "id": "2123bba0-08d0-41f1-a751-6a941c327890",
   "metadata": {},
   "source": [
    "## Introduction"
   ]
  },
  {
   "cell_type": "markdown",
   "id": "68c5c006-20e7-4572-abe9-884011ba776c",
   "metadata": {},
   "source": [
    "As economics students we are passionate to learn more about how the concepts taught in classes are applied in the real world. We decided to focus on macroeconomic and finance datasets as we are all interested in building a project that would be relevant to some of the work we would be exposed to after graduating from university. One important topic in finance is microfinance. According to Precedence Research (2024), the global market of microfinance institutions (MFIs) is expected to increase at CAGR of 11% in the next 10 years, reaching USD 646.25 billion of market size. \n",
    "\n",
    "We chose to work with the research of Banerjee et al. (2015) on microfinance that studies a randomized evaluation of a group lending microcredit program in 52 randomly selected neighborhoods in Hyderabad, India. The data collection worked in three stages: baseline, endline 1 (EL1) and endline 2 (EL2). The baseline consists of data collection during 2005, and then Spandana, a major Indian MFI moved into treatment areas in 2006. From August 2007 to April 2008, the data for endline 1 was collected, and in May, Spandana started to moved into control area. After two years, the data for endline 2 was collected. We can summarize their findings in three axes (1) dubious change in business and consumption, (2) demand for microloans is not universal, and (3) no major effect on social indicators. In this project, we are going to evaluate these three myths by making visualizations of their research. In addition, we are going to map our data into Hyderabad with randomized points.\n",
    "\n",
    "Regarding **Myth One: Consumption and Business**, while the treatment had a discernible effect on assets and profits within businesses, other variables showed no significant differences. The impact on the number of employees was not statistically significant, suggesting that any changes were not substantial.\n",
    "\n",
    "Regarding **Myth Two: Demand for Microloans**, in endline 1, significant differences in credit access were observed, particularly with Spandana showing a 12.7% increase and all MFIs an 8.4% increase. However, by endline 2, these differences diminished, with no significant difference in the probability of obtaining loans from all MFIs and a decrease to 6.3% in the probability of obtaining a Spandana loan. Both endlines exhibited negative differences in the overall probability of getting a loan. Moreover, the borrowing behavior of treatment households from informal and banks markets remained consistent across both endlines. While in endline 1, there was a substantial difference in borrowing from Spandana and all MFIs,  Rs. 1,334 and Rs. 1,286, respectively, by endline 2, these differences decreased to Rs. 979 and Rs. 799, indicating a negative trend in borrowing patterns. Overall, there was either a decrease or no difference in credit access and loan amounts from endline 1 to endline 2, showing that the demand for microloan is not universal, as only 38% of households borrowed from an MFI by the survey's conclusion, contrary to the projected 80% by Banerjee et al. (2015).\n",
    "\n",
    "Regarding **Myth Three: Social Effects**, there were mixed findings regarding the impact of the treatment. While there was no significant difference in the likelihood of children aged 5-15 attending school. Moreover, the women's independence index, encompassing 16 social outcomes, showed a marginal improvement, possibly attributed to increased self-employment activities among women. We are going to explore this increase in self-employment activities in our visualizations.\n",
    "\n",
    "In the next section, we are going to map the data into geographical regions. Then, we explore each myth in detail by making visualizations. At the end, we conclude with our main findings and propose some topics to future research. "
   ]
  },
  {
   "cell_type": "code",
   "execution_count": 1,
   "id": "9dc5230b-7cf9-479b-a647-e738b6aa20ad",
   "metadata": {
    "tags": []
   },
   "outputs": [],
   "source": [
    "# Libraries\n",
    "import pandas as pd\n",
    "import matplotlib.pyplot as plt\n",
    "import numpy as np"
   ]
  },
  {
   "cell_type": "markdown",
   "id": "c38aa5a7-799e-4f80-873a-352e64ed27d7",
   "metadata": {},
   "source": [
    "## Mapping the Data"
   ]
  },
  {
   "cell_type": "code",
   "execution_count": 2,
   "id": "9efb4c38-731f-494e-b247-162aeea3d2e4",
   "metadata": {
    "tags": []
   },
   "outputs": [],
   "source": [
    "# Kanav"
   ]
  },
  {
   "cell_type": "markdown",
   "id": "75241e21-2316-480b-9c54-76328d9116dd",
   "metadata": {},
   "source": [
    "## Myth One: Business and Consumption"
   ]
  },
  {
   "cell_type": "code",
   "execution_count": 3,
   "id": "d0d95e36-42d0-44e7-a373-9a76390e5aef",
   "metadata": {
    "tags": []
   },
   "outputs": [],
   "source": [
    "# Lorraine"
   ]
  },
  {
   "cell_type": "markdown",
   "id": "208a43ec-a761-48d1-8963-2a3a9d183d44",
   "metadata": {
    "tags": []
   },
   "source": [
    "## Myth Two: Demand for Microloans"
   ]
  },
  {
   "cell_type": "markdown",
   "id": "159266a3-7438-4a5e-aef5-f7222bcfc167",
   "metadata": {},
   "source": [
    "The second myth of microfinance is that it increases the demand for loans. Initially, Spandana believed that 80% of eligible households would become clients immediately after the launch. Yet, data shows that after 18 months, only 18% of eligible households became clients. Moreover, after two and a half years, the proportion stayed at the same level of 18% (Banerjee et al., 2015). \n"
   ]
  },
  {
   "cell_type": "markdown",
   "id": "46cb4244-0aa3-40fa-93b9-7de219df9447",
   "metadata": {},
   "source": [
    "#### Endline 1"
   ]
  },
  {
   "cell_type": "markdown",
   "id": "8adc8e14-ecfd-4d05-bc1b-f2eab1cdbcb0",
   "metadata": {},
   "source": [
    "First, we are going to investigate credit access and loan amounts in endline 1, and then the same for endline 2 from Banerjee et al. (2015). "
   ]
  },
  {
   "cell_type": "code",
   "execution_count": 4,
   "id": "41c0f6e1-fdf0-484c-8639-f82f47d27edf",
   "metadata": {
    "tags": []
   },
   "outputs": [
    {
     "data": {
      "text/html": [
       "<div>\n",
       "<style scoped>\n",
       "    .dataframe tbody tr th:only-of-type {\n",
       "        vertical-align: middle;\n",
       "    }\n",
       "\n",
       "    .dataframe tbody tr th {\n",
       "        vertical-align: top;\n",
       "    }\n",
       "\n",
       "    .dataframe thead th {\n",
       "        text-align: right;\n",
       "    }\n",
       "</style>\n",
       "<table border=\"1\" class=\"dataframe\">\n",
       "  <thead>\n",
       "    <tr style=\"text-align: right;\">\n",
       "      <th></th>\n",
       "      <th>Variable</th>\n",
       "      <th>Treatment</th>\n",
       "      <th>SE</th>\n",
       "      <th>N</th>\n",
       "      <th>Lower_CI</th>\n",
       "      <th>Upper_CI</th>\n",
       "    </tr>\n",
       "  </thead>\n",
       "  <tbody>\n",
       "    <tr>\n",
       "      <th>0</th>\n",
       "      <td>Spandana</td>\n",
       "      <td>0.1270</td>\n",
       "      <td>0.0200</td>\n",
       "      <td>6811</td>\n",
       "      <td>0.126525</td>\n",
       "      <td>0.127475</td>\n",
       "    </tr>\n",
       "    <tr>\n",
       "      <th>1</th>\n",
       "      <td>Other_MFI</td>\n",
       "      <td>-0.0120</td>\n",
       "      <td>0.0240</td>\n",
       "      <td>6657</td>\n",
       "      <td>-0.012577</td>\n",
       "      <td>-0.011423</td>\n",
       "    </tr>\n",
       "    <tr>\n",
       "      <th>2</th>\n",
       "      <td>Any_MFI</td>\n",
       "      <td>0.0840</td>\n",
       "      <td>0.0270</td>\n",
       "      <td>6811</td>\n",
       "      <td>0.083359</td>\n",
       "      <td>0.084641</td>\n",
       "    </tr>\n",
       "    <tr>\n",
       "      <th>3</th>\n",
       "      <td>Other_Bank</td>\n",
       "      <td>0.0030</td>\n",
       "      <td>0.0120</td>\n",
       "      <td>6811</td>\n",
       "      <td>0.002715</td>\n",
       "      <td>0.003285</td>\n",
       "    </tr>\n",
       "    <tr>\n",
       "      <th>4</th>\n",
       "      <td>Informal</td>\n",
       "      <td>-0.0520</td>\n",
       "      <td>0.0210</td>\n",
       "      <td>6811</td>\n",
       "      <td>-0.052499</td>\n",
       "      <td>-0.051501</td>\n",
       "    </tr>\n",
       "    <tr>\n",
       "      <th>5</th>\n",
       "      <td>Total</td>\n",
       "      <td>-0.0230</td>\n",
       "      <td>0.0140</td>\n",
       "      <td>6862</td>\n",
       "      <td>-0.023331</td>\n",
       "      <td>-0.022669</td>\n",
       "    </tr>\n",
       "    <tr>\n",
       "      <th>6</th>\n",
       "      <td>LatePayment</td>\n",
       "      <td>0.0520</td>\n",
       "      <td>0.0180</td>\n",
       "      <td>6475</td>\n",
       "      <td>0.051562</td>\n",
       "      <td>0.052438</td>\n",
       "    </tr>\n",
       "    <tr>\n",
       "      <th>7</th>\n",
       "      <td>N_cycles_MFI</td>\n",
       "      <td>0.0840</td>\n",
       "      <td>0.0410</td>\n",
       "      <td>6811</td>\n",
       "      <td>0.083026</td>\n",
       "      <td>0.084974</td>\n",
       "    </tr>\n",
       "    <tr>\n",
       "      <th>8</th>\n",
       "      <td>index_dependent</td>\n",
       "      <td>0.0881</td>\n",
       "      <td>0.0289</td>\n",
       "      <td>6862</td>\n",
       "      <td>0.087416</td>\n",
       "      <td>0.088784</td>\n",
       "    </tr>\n",
       "  </tbody>\n",
       "</table>\n",
       "</div>"
      ],
      "text/plain": [
       "          Variable  Treatment      SE     N  Lower_CI  Upper_CI\n",
       "0         Spandana     0.1270  0.0200  6811  0.126525  0.127475\n",
       "1        Other_MFI    -0.0120  0.0240  6657 -0.012577 -0.011423\n",
       "2          Any_MFI     0.0840  0.0270  6811  0.083359  0.084641\n",
       "3       Other_Bank     0.0030  0.0120  6811  0.002715  0.003285\n",
       "4         Informal    -0.0520  0.0210  6811 -0.052499 -0.051501\n",
       "5            Total    -0.0230  0.0140  6862 -0.023331 -0.022669\n",
       "6      LatePayment     0.0520  0.0180  6475  0.051562  0.052438\n",
       "7     N_cycles_MFI     0.0840  0.0410  6811  0.083026  0.084974\n",
       "8  index_dependent     0.0881  0.0289  6862  0.087416  0.088784"
      ]
     },
     "execution_count": 4,
     "metadata": {},
     "output_type": "execute_result"
    }
   ],
   "source": [
    "# Creating Table 2 - Endline 1 - Credit Acess\n",
    "credit_endline1 = {\n",
    "    'Variable': ['Spandana', 'Other_MFI', 'Any_MFI','Other_Bank','Informal',\n",
    "                'Total','LatePayment','N_cycles_MFI','index_dependent'],\n",
    "    'Treatment': [0.127,-0.012, 0.084, 0.003, -0.052,-0.023,0.052,0.084,0.0881],\n",
    "    'SE': [0.020,0.024,0.027,0.012,0.021,0.014,0.018,0.041,0.0289],\n",
    "    'N': [6811, 6657, 6811, 6811, 6811, 6862, 6475, 6811, 6862]\n",
    "\n",
    "}\n",
    "\n",
    "# Panda Data Frame\n",
    "credit_endline1 = pd.DataFrame(credit_endline1)\n",
    "\n",
    "# Calculating confidence intervals with 95% confidence level\n",
    "credit_endline1['Lower_CI'] = credit_endline1['Treatment'] - 1.96 * (credit_endline1['SE'] / np.sqrt(credit_endline1['N']))\n",
    "credit_endline1['Upper_CI'] = credit_endline1['Treatment'] + 1.96 * (credit_endline1['SE'] / np.sqrt(credit_endline1['N']))\n",
    "\n",
    "credit_endline1"
   ]
  },
  {
   "cell_type": "markdown",
   "id": "704d4a48-308a-4429-b60b-c005d8c55621",
   "metadata": {},
   "source": [
    "**Description of the variables**\n",
    "- Spandana refers to the probability of having at least one loan from Spandana,\n",
    "- Other_MFI refers to the probability of having at least one loan from other MFIs,\n",
    "- Any_MFI refers to the probability of having at least one loan from all MFIs,\n",
    "- Other_Bank refers to the probability of having at least one loan from other bank,\n",
    "- Informal refers to the probability of having at least one loan from the informal market,\n",
    "- Total refers to the overall probability of having at least one loan,\n",
    "- LatePayment refers to the probability of making a late payment,\n",
    "- N_cycles_MFI refers to the number of cycles borrowed from an MFI,\n",
    "- index_dependent refers to the index of dependent variables.\n",
    "\n"
   ]
  },
  {
   "cell_type": "code",
   "execution_count": 5,
   "id": "dfe9546a-2a28-4d6c-94fc-1d19a306a4e2",
   "metadata": {
    "tags": []
   },
   "outputs": [
    {
     "data": {
      "text/plain": [
       "Text(0.5, 1.0, 'Credit Acess: Endline 1')"
      ]
     },
     "execution_count": 5,
     "metadata": {},
     "output_type": "execute_result"
    },
    {
     "data": {
      "image/png": "[encoded data removed]",
      "text/plain": [
       "<Figure size 1000x600 with 1 Axes>"
      ]
     },
     "metadata": {},
     "output_type": "display_data"
    }
   ],
   "source": [
    "# Plotting a Forest Graph\n",
    "\n",
    "fig,ax = plt.subplots(figsize = (10,6))\n",
    "\n",
    "ax.errorbar(credit_endline1['Treatment'], credit_endline1.index, xerr = credit_endline1['SE'],fmt = 'o', color = 'black', capsize = 3)\n",
    "ax.axvline(x = 0, color = 'grey', lw = 1, linestyle = \"--\")\n",
    "\n",
    "ax.invert_yaxis()\n",
    "\n",
    "ax.set_yticks(credit_endline1.index)\n",
    "ax.set_yticklabels(credit_endline1['Variable'])\n",
    "\n",
    "ax.set_xlabel('Treatment Effect')\n",
    "ax.set_title('Credit Acess: Endline 1')"
   ]
  },
  {
   "cell_type": "markdown",
   "id": "dac32a22-09df-40bc-8734-4828e734a76f",
   "metadata": {
    "tags": []
   },
   "source": [
    "Regarding the credit access in endline 1, treatment households represented a significant increase of probability of having a loan from Spandana and all MFIs by 12.7% and 8.4%, respectively. Also, the number of cycles of MFI raised by 8.4%. It is important to highlight that the overall probability of getting a loan decreased by -2.3%. Although it seems that that households borrowed more from MFI, the overall take up rate from eligible households is only 26.4% (against the 80% expected), as pointed by Banerjee et al. (2015). Besides the difference in the probability of credit access, we are going to investigate the difference in how much the treatment household is borrowing. We are making the table for loan amounts for endline 1 below."
   ]
  },
  {
   "cell_type": "code",
   "execution_count": 6,
   "id": "ca2cc81a-c3ef-4bb3-b600-edaf435fdc2d",
   "metadata": {
    "tags": []
   },
   "outputs": [
    {
     "data": {
      "text/html": [
       "<div>\n",
       "<style scoped>\n",
       "    .dataframe tbody tr th:only-of-type {\n",
       "        vertical-align: middle;\n",
       "    }\n",
       "\n",
       "    .dataframe tbody tr th {\n",
       "        vertical-align: top;\n",
       "    }\n",
       "\n",
       "    .dataframe thead th {\n",
       "        text-align: right;\n",
       "    }\n",
       "</style>\n",
       "<table border=\"1\" class=\"dataframe\">\n",
       "  <thead>\n",
       "    <tr style=\"text-align: right;\">\n",
       "      <th></th>\n",
       "      <th>Variable</th>\n",
       "      <th>Treatment</th>\n",
       "      <th>SE</th>\n",
       "      <th>N</th>\n",
       "      <th>Lower_CI</th>\n",
       "      <th>Upper_CI</th>\n",
       "    </tr>\n",
       "  </thead>\n",
       "  <tbody>\n",
       "    <tr>\n",
       "      <th>0</th>\n",
       "      <td>Spandana</td>\n",
       "      <td>1334</td>\n",
       "      <td>230</td>\n",
       "      <td>6811</td>\n",
       "      <td>1328.537663</td>\n",
       "      <td>1339.462337</td>\n",
       "    </tr>\n",
       "    <tr>\n",
       "      <th>1</th>\n",
       "      <td>Other_MFI</td>\n",
       "      <td>-94</td>\n",
       "      <td>336</td>\n",
       "      <td>6708</td>\n",
       "      <td>-102.040792</td>\n",
       "      <td>-85.959208</td>\n",
       "    </tr>\n",
       "    <tr>\n",
       "      <th>2</th>\n",
       "      <td>Any_MFI</td>\n",
       "      <td>1286</td>\n",
       "      <td>439</td>\n",
       "      <td>6811</td>\n",
       "      <td>1275.574062</td>\n",
       "      <td>1296.425938</td>\n",
       "    </tr>\n",
       "    <tr>\n",
       "      <th>3</th>\n",
       "      <td>Other_Bank</td>\n",
       "      <td>75</td>\n",
       "      <td>2163</td>\n",
       "      <td>6811</td>\n",
       "      <td>23.630286</td>\n",
       "      <td>126.369714</td>\n",
       "    </tr>\n",
       "    <tr>\n",
       "      <th>4</th>\n",
       "      <td>Informal</td>\n",
       "      <td>-1069</td>\n",
       "      <td>2520</td>\n",
       "      <td>6811</td>\n",
       "      <td>-1128.848211</td>\n",
       "      <td>-1009.151789</td>\n",
       "    </tr>\n",
       "    <tr>\n",
       "      <th>5</th>\n",
       "      <td>Total</td>\n",
       "      <td>2856</td>\n",
       "      <td>4548</td>\n",
       "      <td>6862</td>\n",
       "      <td>2748.390362</td>\n",
       "      <td>2963.609638</td>\n",
       "    </tr>\n",
       "  </tbody>\n",
       "</table>\n",
       "</div>"
      ],
      "text/plain": [
       "     Variable  Treatment    SE     N     Lower_CI     Upper_CI\n",
       "0    Spandana       1334   230  6811  1328.537663  1339.462337\n",
       "1   Other_MFI        -94   336  6708  -102.040792   -85.959208\n",
       "2     Any_MFI       1286   439  6811  1275.574062  1296.425938\n",
       "3  Other_Bank         75  2163  6811    23.630286   126.369714\n",
       "4    Informal      -1069  2520  6811 -1128.848211 -1009.151789\n",
       "5       Total       2856  4548  6862  2748.390362  2963.609638"
      ]
     },
     "execution_count": 6,
     "metadata": {},
     "output_type": "execute_result"
    }
   ],
   "source": [
    "# Creating Table 2 - Endline 1 - Loan Amounts\n",
    "loan_endline1 = {\n",
    "    'Variable': ['Spandana', 'Other_MFI', 'Any_MFI','Other_Bank','Informal',\n",
    "                'Total'],\n",
    "    'Treatment': [1334,-94,1286,75,-1069,2856],\n",
    "    'SE': [230,336,439,2163,2520,4548],\n",
    "    'N': [6811,6708,6811,6811,6811,6862]\n",
    "}\n",
    "\n",
    "# Panda Data Frame\n",
    "loan_endline1 = pd.DataFrame(loan_endline1)\n",
    "\n",
    "# Calculating confidence intervals of 95% confidence level\n",
    "loan_endline1['Lower_CI'] = loan_endline1['Treatment'] - 1.96 * (loan_endline1['SE'] / np.sqrt(loan_endline1['N']))\n",
    "loan_endline1['Upper_CI'] = loan_endline1['Treatment'] + 1.96 * (loan_endline1['SE'] / np.sqrt(loan_endline1['N']))\n",
    "\n",
    "loan_endline1"
   ]
  },
  {
   "cell_type": "markdown",
   "id": "44733eb1-d07a-41dd-b561-5e8b48e6145f",
   "metadata": {
    "tags": []
   },
   "source": [
    "**Description of the variables**\n",
    "- Spandana refers to the loan amount from Spandana (in Rupees),\n",
    "- Other_MFI refers to the loan amount from other MFIs (in Rupees),\n",
    "- Any_MFI refers to the loan amount from all MFIs (in Rupees),\n",
    "- Other_Bank refers to the loan amount from other banks (in Rupees),\n",
    "- Informal refers to the loan amount from the informal market (in Rupees),\n",
    "- Total refers to the overall loan amount (in Rupees).\n"
   ]
  },
  {
   "cell_type": "code",
   "execution_count": 7,
   "id": "bbdaa221-0021-4811-a543-5fffeba80a16",
   "metadata": {
    "tags": []
   },
   "outputs": [
    {
     "data": {
      "text/plain": [
       "Text(0.5, 1.0, 'Loan Amount: Endline 1')"
      ]
     },
     "execution_count": 7,
     "metadata": {},
     "output_type": "execute_result"
    },
    {
     "data": {
      "image/png": "[encoded data removed]",
      "text/plain": [
       "<Figure size 1000x600 with 1 Axes>"
      ]
     },
     "metadata": {},
     "output_type": "display_data"
    }
   ],
   "source": [
    "# Plotting a Forest Graph\n",
    "\n",
    "fig,ax = plt.subplots(figsize = (10,6))\n",
    "\n",
    "ax.errorbar(loan_endline1['Treatment'], loan_endline1.index, xerr = loan_endline1['SE'],fmt = 'o', color = 'black', capsize = 3)\n",
    "ax.axvline(x = 0, color = 'grey', lw = 1, linestyle = \"--\")\n",
    "\n",
    "ax.invert_yaxis()\n",
    "\n",
    "ax.set_yticks(loan_endline1.index)\n",
    "ax.set_yticklabels(loan_endline1['Variable'])\n",
    "\n",
    "ax.set_xlabel('Treatment Effect (in Rupees)')\n",
    "ax.set_title('Loan Amount: Endline 1')"
   ]
  },
  {
   "cell_type": "markdown",
   "id": "b1480aeb-4388-4cb4-b58c-19c2d4e4ffce",
   "metadata": {},
   "source": [
    "Regarding the loan amount, there is no statistically significant differences in any variable, except for Spandana and all MFIs. Treatment households reported Rs. 1,334 more borrowing from Spandana than do control housefolds, and Rs. 1,286 more from all MFIs. The loan amount from the informal and bank market did not present any significant change. After two years, the same households were surveyed for endline 2, and we are using the panel data for endline 2 below.\n"
   ]
  },
  {
   "cell_type": "markdown",
   "id": "5ce64540-a958-439b-8697-0e0802bb4de5",
   "metadata": {},
   "source": [
    "#### Endline 2"
   ]
  },
  {
   "cell_type": "code",
   "execution_count": 8,
   "id": "036bc995-6d49-4ea2-ade0-1d28aa8812db",
   "metadata": {
    "tags": []
   },
   "outputs": [
    {
     "data": {
      "text/html": [
       "<div>\n",
       "<style scoped>\n",
       "    .dataframe tbody tr th:only-of-type {\n",
       "        vertical-align: middle;\n",
       "    }\n",
       "\n",
       "    .dataframe tbody tr th {\n",
       "        vertical-align: top;\n",
       "    }\n",
       "\n",
       "    .dataframe thead th {\n",
       "        text-align: right;\n",
       "    }\n",
       "</style>\n",
       "<table border=\"1\" class=\"dataframe\">\n",
       "  <thead>\n",
       "    <tr style=\"text-align: right;\">\n",
       "      <th></th>\n",
       "      <th>Variable</th>\n",
       "      <th>Treatment</th>\n",
       "      <th>SE</th>\n",
       "      <th>N</th>\n",
       "      <th>Lower_CI</th>\n",
       "      <th>Upper_CI</th>\n",
       "    </tr>\n",
       "  </thead>\n",
       "  <tbody>\n",
       "    <tr>\n",
       "      <th>0</th>\n",
       "      <td>Spandana</td>\n",
       "      <td>0.0630</td>\n",
       "      <td>0.0190</td>\n",
       "      <td>6142</td>\n",
       "      <td>0.062525</td>\n",
       "      <td>0.063475</td>\n",
       "    </tr>\n",
       "    <tr>\n",
       "      <th>1</th>\n",
       "      <td>Other_MFI</td>\n",
       "      <td>-0.0390</td>\n",
       "      <td>0.0260</td>\n",
       "      <td>6142</td>\n",
       "      <td>-0.039650</td>\n",
       "      <td>-0.038350</td>\n",
       "    </tr>\n",
       "    <tr>\n",
       "      <th>2</th>\n",
       "      <td>Any_MFI</td>\n",
       "      <td>0.0020</td>\n",
       "      <td>0.0290</td>\n",
       "      <td>6142</td>\n",
       "      <td>0.001275</td>\n",
       "      <td>0.002725</td>\n",
       "    </tr>\n",
       "    <tr>\n",
       "      <th>3</th>\n",
       "      <td>Other_Bank</td>\n",
       "      <td>0.0010</td>\n",
       "      <td>0.0090</td>\n",
       "      <td>6142</td>\n",
       "      <td>0.000775</td>\n",
       "      <td>0.001225</td>\n",
       "    </tr>\n",
       "    <tr>\n",
       "      <th>4</th>\n",
       "      <td>Informal</td>\n",
       "      <td>0.0020</td>\n",
       "      <td>0.0180</td>\n",
       "      <td>6142</td>\n",
       "      <td>0.001550</td>\n",
       "      <td>0.002450</td>\n",
       "    </tr>\n",
       "    <tr>\n",
       "      <th>5</th>\n",
       "      <td>Total</td>\n",
       "      <td>0.0000</td>\n",
       "      <td>0.0100</td>\n",
       "      <td>6142</td>\n",
       "      <td>-0.000250</td>\n",
       "      <td>0.000250</td>\n",
       "    </tr>\n",
       "    <tr>\n",
       "      <th>6</th>\n",
       "      <td>LatePayment</td>\n",
       "      <td>0.0070</td>\n",
       "      <td>0.0210</td>\n",
       "      <td>6142</td>\n",
       "      <td>0.006475</td>\n",
       "      <td>0.007525</td>\n",
       "    </tr>\n",
       "    <tr>\n",
       "      <th>7</th>\n",
       "      <td>N_cycles_MFI</td>\n",
       "      <td>0.0850</td>\n",
       "      <td>0.0670</td>\n",
       "      <td>5926</td>\n",
       "      <td>0.083294</td>\n",
       "      <td>0.086706</td>\n",
       "    </tr>\n",
       "    <tr>\n",
       "      <th>8</th>\n",
       "      <td>index_dependent</td>\n",
       "      <td>0.0288</td>\n",
       "      <td>0.0253</td>\n",
       "      <td>6142</td>\n",
       "      <td>0.028167</td>\n",
       "      <td>0.029433</td>\n",
       "    </tr>\n",
       "  </tbody>\n",
       "</table>\n",
       "</div>"
      ],
      "text/plain": [
       "          Variable  Treatment      SE     N  Lower_CI  Upper_CI\n",
       "0         Spandana     0.0630  0.0190  6142  0.062525  0.063475\n",
       "1        Other_MFI    -0.0390  0.0260  6142 -0.039650 -0.038350\n",
       "2          Any_MFI     0.0020  0.0290  6142  0.001275  0.002725\n",
       "3       Other_Bank     0.0010  0.0090  6142  0.000775  0.001225\n",
       "4         Informal     0.0020  0.0180  6142  0.001550  0.002450\n",
       "5            Total     0.0000  0.0100  6142 -0.000250  0.000250\n",
       "6      LatePayment     0.0070  0.0210  6142  0.006475  0.007525\n",
       "7     N_cycles_MFI     0.0850  0.0670  5926  0.083294  0.086706\n",
       "8  index_dependent     0.0288  0.0253  6142  0.028167  0.029433"
      ]
     },
     "execution_count": 8,
     "metadata": {},
     "output_type": "execute_result"
    }
   ],
   "source": [
    "# Creating Table 2 - Endline 2 - Credit Acess\n",
    "\n",
    "credit_endline2 = {\n",
    "    'Variable': ['Spandana', 'Other_MFI', 'Any_MFI', 'Other_Bank', 'Informal', 'Total', 'LatePayment', 'N_cycles_MFI', 'index_dependent'],\n",
    "    'Treatment': [0.063, -0.039, 0.002, 0.001, 0.002, 0.000, 0.007, 0.085, 0.0288],\n",
    "    'SE': [0.019, 0.026, 0.029, 0.009, 0.018, 0.010, 0.021, 0.067, 0.0253],\n",
    "    'N': [6142, 6142, 6142, 6142, 6142, 6142, 6142, 5926, 6142]\n",
    "}\n",
    "\n",
    "# Panda Data Frame\n",
    "credit_endline2 = pd.DataFrame(credit_endline2)\n",
    "\n",
    "# Calculating confidence intervals for 95% confidence level\n",
    "credit_endline2['Lower_CI'] = credit_endline2['Treatment'] - 1.96 * (credit_endline2['SE'] / np.sqrt(credit_endline2['N']))\n",
    "credit_endline2['Upper_CI'] = credit_endline2['Treatment'] + 1.96 * (credit_endline2['SE'] / np.sqrt(credit_endline2['N']))\n",
    "\n",
    "credit_endline2"
   ]
  },
  {
   "cell_type": "code",
   "execution_count": 9,
   "id": "9f20fa4e-68b7-4bf8-8a78-23a9c5ad828c",
   "metadata": {
    "tags": []
   },
   "outputs": [
    {
     "data": {
      "text/plain": [
       "Text(0.5, 1.0, 'Credit Acess: Endline 2')"
      ]
     },
     "execution_count": 9,
     "metadata": {},
     "output_type": "execute_result"
    },
    {
     "data": {
      "image/png": "[encoded data removed]",
      "text/plain": [
       "<Figure size 1000x600 with 1 Axes>"
      ]
     },
     "metadata": {},
     "output_type": "display_data"
    }
   ],
   "source": [
    "# Plotting a Forest Graph\n",
    "\n",
    "fig,ax = plt.subplots(figsize = (10,6))\n",
    "\n",
    "ax.errorbar(credit_endline2['Treatment'], credit_endline2.index, xerr = credit_endline2['SE'],fmt = 'o', color = 'black', capsize = 3)\n",
    "ax.axvline(x = 0, color = 'grey', lw = 1, linestyle = \"--\")\n",
    "\n",
    "ax.invert_yaxis()\n",
    "\n",
    "ax.set_yticks(credit_endline2.index)\n",
    "ax.set_yticklabels(credit_endline2['Variable'])\n",
    "\n",
    "ax.set_xlabel('Treatment Effect')\n",
    "ax.set_title('Credit Acess: Endline 2')"
   ]
  },
  {
   "cell_type": "markdown",
   "id": "1912dc91-eb5a-4f0f-b691-2d5416c8d9bc",
   "metadata": {},
   "source": [
    "After two years, the probability of getting a loan from Spadana increased by 6.3%, and from other MFIs decreased by -3.9%. The probability of all MFI and overall market did not present any significant difference. Also, the number of cycles from a number of cycles borrowed from an MFI increased by 6.7%."
   ]
  },
  {
   "cell_type": "code",
   "execution_count": 10,
   "id": "62fd90c9-e045-4e50-a48e-82ac01799f34",
   "metadata": {
    "tags": []
   },
   "outputs": [
    {
     "data": {
      "text/html": [
       "<div>\n",
       "<style scoped>\n",
       "    .dataframe tbody tr th:only-of-type {\n",
       "        vertical-align: middle;\n",
       "    }\n",
       "\n",
       "    .dataframe tbody tr th {\n",
       "        vertical-align: top;\n",
       "    }\n",
       "\n",
       "    .dataframe thead th {\n",
       "        text-align: right;\n",
       "    }\n",
       "</style>\n",
       "<table border=\"1\" class=\"dataframe\">\n",
       "  <thead>\n",
       "    <tr style=\"text-align: right;\">\n",
       "      <th></th>\n",
       "      <th>Variable</th>\n",
       "      <th>Treatment</th>\n",
       "      <th>SE</th>\n",
       "      <th>N</th>\n",
       "      <th>Lower_CI</th>\n",
       "      <th>Upper_CI</th>\n",
       "    </tr>\n",
       "  </thead>\n",
       "  <tbody>\n",
       "    <tr>\n",
       "      <th>0</th>\n",
       "      <td>Spandana</td>\n",
       "      <td>979</td>\n",
       "      <td>287</td>\n",
       "      <td>6142</td>\n",
       "      <td>971.822337</td>\n",
       "      <td>986.177663</td>\n",
       "    </tr>\n",
       "    <tr>\n",
       "      <th>1</th>\n",
       "      <td>Other_MFI</td>\n",
       "      <td>-217</td>\n",
       "      <td>628</td>\n",
       "      <td>6142</td>\n",
       "      <td>-232.705827</td>\n",
       "      <td>-201.294173</td>\n",
       "    </tr>\n",
       "    <tr>\n",
       "      <th>2</th>\n",
       "      <td>Any_MFI</td>\n",
       "      <td>799</td>\n",
       "      <td>669</td>\n",
       "      <td>6142</td>\n",
       "      <td>782.268793</td>\n",
       "      <td>815.731207</td>\n",
       "    </tr>\n",
       "    <tr>\n",
       "      <th>3</th>\n",
       "      <td>Other_Bank</td>\n",
       "      <td>-1181</td>\n",
       "      <td>1086</td>\n",
       "      <td>6142</td>\n",
       "      <td>-1208.160077</td>\n",
       "      <td>-1153.839923</td>\n",
       "    </tr>\n",
       "    <tr>\n",
       "      <th>4</th>\n",
       "      <td>Informal</td>\n",
       "      <td>158</td>\n",
       "      <td>2940</td>\n",
       "      <td>6142</td>\n",
       "      <td>84.472721</td>\n",
       "      <td>231.527279</td>\n",
       "    </tr>\n",
       "    <tr>\n",
       "      <th>5</th>\n",
       "      <td>Total</td>\n",
       "      <td>2554</td>\n",
       "      <td>6156</td>\n",
       "      <td>6142</td>\n",
       "      <td>2400.042881</td>\n",
       "      <td>2707.957119</td>\n",
       "    </tr>\n",
       "  </tbody>\n",
       "</table>\n",
       "</div>"
      ],
      "text/plain": [
       "     Variable  Treatment    SE     N     Lower_CI     Upper_CI\n",
       "0    Spandana        979   287  6142   971.822337   986.177663\n",
       "1   Other_MFI       -217   628  6142  -232.705827  -201.294173\n",
       "2     Any_MFI        799   669  6142   782.268793   815.731207\n",
       "3  Other_Bank      -1181  1086  6142 -1208.160077 -1153.839923\n",
       "4    Informal        158  2940  6142    84.472721   231.527279\n",
       "5       Total       2554  6156  6142  2400.042881  2707.957119"
      ]
     },
     "execution_count": 10,
     "metadata": {},
     "output_type": "execute_result"
    }
   ],
   "source": [
    "# Creating Table 2 - Endline 2 - Loan Amounts\n",
    "loan_endline2 = {\n",
    "    'Variable': ['Spandana', 'Other_MFI', 'Any_MFI', 'Other_Bank', 'Informal', 'Total'],\n",
    "    'Treatment': [979, -217, 799, -1181, 158, 2554],\n",
    "    'SE': [287, 628, 669, 1086, 2940, 6156],\n",
    "    'N': [6142, 6142, 6142, 6142, 6142, 6142]\n",
    "}\n",
    "\n",
    "# Panda Data Frame\n",
    "loan_endline2 = pd.DataFrame(loan_endline2)\n",
    "\n",
    "# Calculating confidence intervals for 95% confidence level\n",
    "loan_endline2['Lower_CI'] = loan_endline2['Treatment'] - 1.96 * (loan_endline2['SE'] / np.sqrt(loan_endline2['N']))\n",
    "loan_endline2['Upper_CI'] = loan_endline2['Treatment'] + 1.96 * (loan_endline2['SE'] / np.sqrt(loan_endline2['N']))\n",
    "\n",
    "loan_endline2"
   ]
  },
  {
   "cell_type": "code",
   "execution_count": 11,
   "id": "22ad72b0-7da6-4e36-8676-174f23745bf9",
   "metadata": {
    "tags": []
   },
   "outputs": [
    {
     "data": {
      "text/plain": [
       "Text(0.5, 1.0, 'Loan Amount: Endline 2')"
      ]
     },
     "execution_count": 11,
     "metadata": {},
     "output_type": "execute_result"
    },
    {
     "data": {
      "image/png": "[encoded data removed]",
      "text/plain": [
       "<Figure size 1000x600 with 1 Axes>"
      ]
     },
     "metadata": {},
     "output_type": "display_data"
    }
   ],
   "source": [
    "# Plotting a Forest Graph\n",
    "\n",
    "fig,ax = plt.subplots(figsize = (10,6))\n",
    "\n",
    "ax.errorbar(loan_endline2['Treatment'], loan_endline2.index, xerr = loan_endline2['SE'],fmt = 'o', color = 'black', capsize = 3)\n",
    "ax.axvline(x = 0, color = 'grey', lw = 1, linestyle = \"--\")\n",
    "\n",
    "ax.invert_yaxis()\n",
    "\n",
    "ax.set_yticks(loan_endline2.index)\n",
    "ax.set_yticklabels(loan_endline2['Variable'])\n",
    "\n",
    "ax.set_xlabel('Treatment Effect (in Rupees)')\n",
    "ax.set_title('Loan Amount: Endline 2')"
   ]
  },
  {
   "cell_type": "markdown",
   "id": "9b5a688b-2d8f-4e35-b185-927d4bf996ad",
   "metadata": {},
   "source": [
    "Similarly, in terms of loan amount, treatment households reported Rs. 979 more borrowing from Spandana than do control households, and Rs. 799 more from all MFIs, which is statistically significant. Yet, the amount is lower than endline 1. Moreover, other variables presented no significant differences, including the total amount.\n",
    "\n",
    "Although the credit access in endline 1 presented a significant difference in Spandana (12.7%) and all MFIs (8.4%), in endline 2, the probability of getting a loan from all MFIs did not present any significant difference, and the probability for Spandana loan decreased to 6.3%. In both endlines, there were no positive difference in the overall probability of getting a loan, and even in endline 1, the difference was negative. \n",
    "\n",
    "Furthermore, he amount that treatment households borrowed from the informal, bank and overall market did not present any major difference in both endlines. While in endline 1, the difference in borrowing from Spandana and all MFIs was Rs. 1,334 and Rs. 1,286, respectively, in endline 2, the difference was Rs. 979 and Rs. 799, showing a negative derivative in the borrowing. \n",
    "\n",
    "Both in terms of credit access and loan amount, there was a decrease in the scenario from endline 1 to endline 2, or even no difference at all in each of these scenarios. At the end of the survey, only 38% of households borrowed from an MFI, while it was expected a proportion of 80% as argued by Banerjee et al. (2015). Therefore, it seems that demand for microloan is not universal as predicted. According to Banerjee et al. (2015), there are two possible explanations for this finding (1) the amount borrowed would not yield the rate of return of 24 per cent, which is the interest charged by Spandana, and (2)  households prefer the informal market of friends, family or moneylenders who have greater flexibility, even with a higher interest rate and the possibility of embarrassment."
   ]
  },
  {
   "cell_type": "markdown",
   "id": "01936ee6-c087-40f2-a558-c84cbf371491",
   "metadata": {},
   "source": [
    "## Myth Three: Social Effects"
   ]
  },
  {
   "cell_type": "code",
   "execution_count": 12,
   "id": "8ee7f306-bca3-4530-82cf-3a8c2ce6f60e",
   "metadata": {
    "tags": []
   },
   "outputs": [],
   "source": [
    "# Fardin"
   ]
  },
  {
   "cell_type": "markdown",
   "id": "35cf4ee5-b0da-4a47-bde5-8296e304755c",
   "metadata": {},
   "source": [
    "## Conclusion"
   ]
  },
  {
   "cell_type": "markdown",
   "id": "6f69889e-8371-4a96-b4e0-a82195f2b1c5",
   "metadata": {},
   "source": [
    "Regarding the three myths examined, firstly, microfinance impacted assets and profits within businesses, yet failed to significantly affect other variables, such as the number of employees. \n",
    "\n",
    "Secondly, initial differences in credit access for Spandana and all MFIs diminished by endline 2, indicating a decrease in loan acquisition probabilities, while borrowing behavior from informal and bank markets remained consistent, with decreasing differences in borrowing amounts between endlines. This challenges the assumed universality of microloan demand, with only 38% of households borrowing from an MFI by the survey's conclusion, contrary to expectations.\n",
    "\n",
    "Secondly, initial differences in credit access between Spandana and all MFIs in endline 1 diminished in endline 2, indicating a decline in loan acquisition probabilities. Furthermore, consistent borrowing behavior from informal and bank markets, with diminishing differences in borrowing amounts between endlines, underscores that demannd for microloans was not universal.\n",
    "\n",
    "Lastly, while no significant difference was observed in the school attendance of children aged 5-15, the women's independence index marginally improved, probably due to increase in self-employment activities.\n",
    "\n",
    "For future research, we have two proposals (1) analyze other Indian cities to solidify the results and conclusion of the experiment, and (2) investigate why the informal loan market is preferred, even with the drawback of the embarrassment and higher rates."
   ]
  },
  {
   "cell_type": "markdown",
   "id": "5583b580-5808-42fe-b27a-1aae7012b69c",
   "metadata": {},
   "source": [
    "## References"
   ]
  },
  {
   "cell_type": "markdown",
   "id": "90ef25fb-17ad-4996-8935-80dd04ee27dc",
   "metadata": {
    "tags": []
   },
   "source": [
    "Banerjee, A., Duflo, E., Glennerster, R., & Kinnan, C. (2015). The miracle of microfinance? Evidence from a randomized evaluation. _American Economic Journal. Applied Economics, 7(1), 22-53. https://doi.org/10.1257/app.20130533\n",
    "\n",
    "Precedence Research. (2024). _Microfinance market_. https://www.precedenceresearch.com/microfinance-market#:~:text=The%20global%20microfinance%20market%20size,period%20from%202023%20to%202032"
   ]
  }
 ],
 "metadata": {
  "kernelspec": {
   "display_name": "Python 3 (ipykernel)",
   "language": "python",
   "name": "python3"
  },
  "language_info": {
   "codemirror_mode": {
    "name": "ipython",
    "version": 3
   },
   "file_extension": ".py",
   "mimetype": "text/x-python",
   "name": "python",
   "nbconvert_exporter": "python",
   "pygments_lexer": "ipython3",
   "version": "3.10.8"
  }
 },
 "nbformat": 4,
 "nbformat_minor": 5
}
